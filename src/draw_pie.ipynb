{
 "cells": [
  {
   "cell_type": "markdown",
   "metadata": {},
   "source": [
    "# Pie Chart"
   ]
  },
  {
   "cell_type": "code",
   "execution_count": 1,
   "metadata": {},
   "outputs": [],
   "source": [
    "import os\n",
    "import numpy as np\n",
    "import matplotlib\n",
    "import matplotlib.pyplot as plt\n",
    "\n",
    "plt.rcParams[\"font.size\"] = 8\n",
    "plt.rcParams[\"font.family\"] = \"serif\"\n",
    "plt.rcParams[\"lines.linewidth\"] = 1.5\n",
    "plt.rcParams[\"text.usetex\"] = False\n",
    "plt.rcParams[\"xtick.direction\"] = \"in\"\n",
    "plt.rcParams[\"xtick.top\"] = True\n",
    "plt.rcParams[\"xtick.major.width\"] = 1.5\n",
    "plt.rcParams[\"xtick.major.size\"] = 4\n",
    "plt.rcParams[\"ytick.direction\"] = \"in\"\n",
    "plt.rcParams[\"ytick.right\"] = True\n",
    "plt.rcParams[\"ytick.major.width\"] = 1.5\n",
    "plt.rcParams[\"ytick.major.size\"] = 4\n",
    "line_configs = {\"linewidth\": 2, \"markersize\": 12, \"markeredgewidth\": 1.5, \"fillstyle\": \"none\"}\n",
    "bar_configs = {\"width\": 0.2, \"edgecolor\": 'k', \"linewidth\": 1.5}\n",
    "np.random.seed = 2024"
   ]
  },
  {
   "cell_type": "code",
   "execution_count": 2,
   "metadata": {},
   "outputs": [],
   "source": [
    "%config InlineBackend.print_figure_kwargs = {\"bbox_inches\": None}"
   ]
  },
  {
   "cell_type": "code",
   "execution_count": 3,
   "metadata": {},
   "outputs": [],
   "source": [
    "def rgb2hex(rgb):\n",
    "    color = \"#\"\n",
    "    for num in rgb:\n",
    "        hex_num = hex(num)\n",
    "        color += hex_num[2:].zfill(2)\n",
    "    return color"
   ]
  },
  {
   "cell_type": "code",
   "execution_count": 25,
   "metadata": {},
   "outputs": [],
   "source": [
    "def draw_pie(data, tasks, save_to_pdf=True, **kwargs):\n",
    "    fig, ax = plt.subplots(figsize=(3.3, 2.5), subplot_kw=dict(aspect=\"equal\"))\n",
    "\n",
    "    # pie_colors = [\"#33539E\", \"#7DACD6\", \"#BFB8DA\", \"#E8B7D4\", \"#A5678E\", \"#5D7599\", \"#ABB6C8\", \"#DADADA\", \"#F7F0C6\", \"#C2C4B6\"]\n",
    "    pie_colors = [\"#33539E\", \"#7DACD6\", \"#BFB8DA\", \"#E8B7D4\", \"#A5678E\", \n",
    "                  \"#AAC9CE\", \"#B6B4C2\", \"#C9BBC8\", \"#E5C1CD\", \"#F3DBCF\"]\n",
    "\n",
    "    wedges, texts, autotexts = ax.pie(data, autopct=int, colors=pie_colors, textprops=dict(color=\"black\"))\n",
    "\n",
    "    ax.legend(wedges, tasks, title=\"Legend\", loc=\"center left\", bbox_to_anchor=(0.92, 0, 0.5, 1))\n",
    "\n",
    "    plt.setp(autotexts, size=8, weight=\"bold\")\n",
    "\n",
    "    ax.set_title(\"Distribution\", y=0.9)\n",
    "\n",
    "    plt.tight_layout()\n",
    "    if save_to_pdf:\n",
    "        save_path = os.path.join(kwargs[\"save_dir\"], kwargs[\"name\"] + \".png\")\n",
    "        fig.savefig(save_path, dpi=1000, format=\"png\")\n",
    "    plt.show()\n"
   ]
  },
  {
   "cell_type": "code",
   "execution_count": 26,
   "metadata": {},
   "outputs": [
    {
     "data": {
      "image/png": "[encoded data removed]",
      "text/plain": [
       "<Figure size 330x250 with 1 Axes>"
      ]
     },
     "metadata": {},
     "output_type": "display_data"
    }
   ],
   "source": [
    "tasks = [\n",
    "    \"A\", \"B\", \"C\", \n",
    "    \"D\", \"E\", \"F\", \n",
    "    \"G\", \"H\", \"I\", \n",
    "    \"J\"\n",
    "]\n",
    "number_of_papers = [4, 3, 8, 4, 6, 2, 3, 4, 6, 7]\n",
    "draw_pie(number_of_papers, tasks, True, save_dir=\"../figure\", name=\"pie_plot\")"
   ]
  }
 ],
 "metadata": {
  "kernelspec": {
   "display_name": "pytorch",
   "language": "python",
   "name": "python3"
  },
  "language_info": {
   "codemirror_mode": {
    "name": "ipython",
    "version": 3
   },
   "file_extension": ".py",
   "mimetype": "text/x-python",
   "name": "python",
   "nbconvert_exporter": "python",
   "pygments_lexer": "ipython3",
   "version": "3.8.13"
  }
 },
 "nbformat": 4,
 "nbformat_minor": 2
}
