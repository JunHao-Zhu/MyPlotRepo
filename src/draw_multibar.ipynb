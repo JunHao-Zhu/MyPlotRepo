{
 "cells": [
  {
   "cell_type": "markdown",
   "metadata": {},
   "source": [
    "# Multi-bar Plots"
   ]
  },
  {
   "cell_type": "markdown",
   "metadata": {},
   "source": [
    "import libs and set default configurations"
   ]
  },
  {
   "cell_type": "code",
   "execution_count": null,
   "metadata": {},
   "outputs": [],
   "source": [
    "import os\n",
    "import numpy as np\n",
    "import matplotlib\n",
    "import matplotlib.pyplot as plt\n",
    "\n",
    "plt.rc(\"font\", family=\"Times New Roman\", size=14)\n",
    "plt.rcParams[\"lines.linewidth\"] = 2\n",
    "plt.rcParams[\"text.usetex\"] = True\n",
    "plt.rcParams[\"xtick.direction\"] = \"in\"\n",
    "plt.rcParams[\"xtick.top\"] = True\n",
    "plt.rcParams[\"xtick.major.width\"] = 1.5\n",
    "plt.rcParams[\"xtick.major.size\"] = 4\n",
    "plt.rcParams[\"ytick.direction\"] = \"in\"\n",
    "plt.rcParams[\"ytick.right\"] = True\n",
    "plt.rcParams[\"ytick.major.width\"] = 1.5\n",
    "plt.rcParams[\"ytick.major.size\"] = 4\n",
    "line_configs = {\"linewidth\": 2, \"markersize\": 12, \"markeredgewidth\": 1.5, \"fillstyle\": \"none\"}\n",
    "bar_configs = {\"width\": 0.2, \"edgecolor\": 'k', \"linewidth\": 1.5}"
   ]
  },
  {
   "cell_type": "markdown",
   "metadata": {},
   "source": [
    "prerequisite functions"
   ]
  },
  {
   "cell_type": "code",
   "execution_count": null,
   "metadata": {},
   "outputs": [],
   "source": [
    "def rgb2hex(rgb):\n",
    "    color = \"#\"\n",
    "    for num in rgb:\n",
    "        hex_num = hex(num)\n",
    "        color += hex_num[2:].zfill(2)\n",
    "    return color"
   ]
  },
  {
   "cell_type": "markdown",
   "metadata": {},
   "source": [
    "function to draw a 1*3 multi-bar plot"
   ]
  },
  {
   "cell_type": "code",
   "execution_count": null,
   "metadata": {},
   "outputs": [],
   "source": [
    "def draw_three_dataset_multibar(exp_results: tuple, dataset_names, method_labels, save_dir, exp_name):\n",
    "    colors = [rgb2hex([248, 230, 32]), rgb2hex([53, 183, 119]), rgb2hex([48, 104, 141]), rgb2hex([68, 4, 90])]\n",
    "    fig, axs = plt.subplots(figsize=(9, 3), nrows=1, ncols=3)\n",
    "    fig.subplots_adjust(wspace=0.4)\n",
    "    x_cord = np.arange(1, 6)\n",
    "    width = bar_configs[\"width\"]\n",
    "    x_cord = x_cord - width * (len(method_labels) - 1) / 2\n",
    "    for cid, ax in enumerate(axs):\n",
    "        data = exp_results[cid]\n",
    "        for mid in range(len(method_labels)):\n",
    "            offset = mid * width\n",
    "            ax.bar(x_cord + offset, data[mid], label=method_labels[mid], color=colors[mid], **bar_configs)\n",
    "        ax.set_title(dataset_names[cid])\n",
    "        ax.set_xticks([1, 2, 3, 4, 5])\n",
    "        ax.set_xticklabels([\"xlabel1\", \"xlabel2\", \"xlabel3\", \"xlabel4\", \"xlabel5\"], rotation=20)\n",
    "        ax.set_ylabel(\"ylabel\")\n",
    "        ax.spines[[\"top\", \"bottom\", \"left\", \"right\"]].set_linewidth(1.5)\n",
    "    fig.legend(method_labels, loc=\"upper center\", fontsize=14, bbox_to_anchor=(0.55, 1.1), ncols=len(method_labels), frameon=False)\n",
    "    \n",
    "    plt.tight_layout()\n",
    "    save_path = os.path.join(save_dir, exp_name + \".png\")\n",
    "    fig.savefig(save_path, dpi=300)\n",
    "    plt.show()"
   ]
  },
  {
   "cell_type": "markdown",
   "metadata": {},
   "source": [
    "prepare data and visualize it"
   ]
  },
  {
   "cell_type": "code",
   "execution_count": null,
   "metadata": {},
   "outputs": [],
   "source": [
    "save_dir = \"../figure\"\n",
    "dataset_names = [\"dataset 1\", \"dataset 2\", \"dataset 3\"]\n",
    "method_names = [\"method A\", \"method B\", \"method C\", \"method D\"]\n",
    "data1 = [[0.0409, 0.0543, 0.0943, 0.1115, 0.1363],\n",
    "         [0.0351, 0.0557, 0.0916, 0.1315, 0.1860],\n",
    "         [0.0586, 0.0865, 0.1046, 0.1476, 0.2160],\n",
    "         [0.1043, 0.1344, 0.1638, 0.2035, 0.2446]]\n",
    "data2 = [[0.0409, 0.0543, 0.0943, 0.1115, 0.1363],\n",
    "         [0.0351, 0.0557, 0.0916, 0.1315, 0.1860],\n",
    "         [0.0586, 0.0865, 0.1046, 0.1476, 0.2160],\n",
    "         [0.1043, 0.1344, 0.1638, 0.2035, 0.2446]]\n",
    "data3 = [[0.0409, 0.0543, 0.0943, 0.1115, 0.1363],\n",
    "         [0.0351, 0.0557, 0.0916, 0.1315, 0.1860],\n",
    "         [0.0586, 0.0865, 0.1046, 0.1476, 0.2160],\n",
    "         [0.1043, 0.1344, 0.1638, 0.2035, 0.2446]]\n",
    "\n",
    "draw_three_dataset_multibar(\n",
    "    (data1, data2, data3),\n",
    "    dataset_names, method_names,\n",
    "    save_dir, \"multibar_plot\"\n",
    ")"
   ]
  }
 ],
 "metadata": {
  "kernelspec": {
   "display_name": "pytorch",
   "language": "python",
   "name": "python3"
  },
  "language_info": {
   "codemirror_mode": {
    "name": "ipython",
    "version": 3
   },
   "file_extension": ".py",
   "mimetype": "text/x-python",
   "name": "python",
   "nbconvert_exporter": "python",
   "pygments_lexer": "ipython3",
   "version": "3.8.13"
  }
 },
 "nbformat": 4,
 "nbformat_minor": 2
}
