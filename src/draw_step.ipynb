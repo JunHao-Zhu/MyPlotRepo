{
 "cells": [
  {
   "cell_type": "markdown",
   "metadata": {},
   "source": [
    "# Step Plots"
   ]
  },
  {
   "cell_type": "markdown",
   "metadata": {},
   "source": [
    "import libs and set default configurations"
   ]
  },
  {
   "cell_type": "code",
   "execution_count": null,
   "metadata": {},
   "outputs": [],
   "source": [
    "import os\n",
    "import numpy as np\n",
    "import matplotlib\n",
    "import matplotlib.pyplot as plt\n",
    "\n",
    "plt.rc(\"font\", family=\"Times New Roman\", size=14)\n",
    "plt.rcParams[\"lines.linewidth\"] = 2\n",
    "plt.rcParams[\"text.usetex\"] = True\n",
    "plt.rcParams[\"xtick.direction\"] = \"in\"\n",
    "plt.rcParams[\"ytick.direction\"] = \"in\"\n",
    "tick_params = {\"direction\": \"in\", \"length\": 4, \"width\": 1, \"bottom\": True, \"top\": True, \"left\": True, \"right\": True}\n",
    "line_configs = {\"markersize\": 12, \"markeredgewidth\": 1.5, \"fillstyle\": \"none\"}"
   ]
  },
  {
   "cell_type": "markdown",
   "metadata": {},
   "source": [
    "prerequisite functions"
   ]
  },
  {
   "cell_type": "code",
   "execution_count": null,
   "metadata": {},
   "outputs": [],
   "source": [
    "def rgb2hex(rgb):\n",
    "    color = \"#\"\n",
    "    for num in rgb:\n",
    "        hex_num = hex(num)\n",
    "        color += hex_num[2:].zfill(2)\n",
    "    return color"
   ]
  },
  {
   "cell_type": "markdown",
   "metadata": {},
   "source": [
    "function to draw a 2*3 step plot"
   ]
  },
  {
   "cell_type": "code",
   "execution_count": null,
   "metadata": {},
   "outputs": [],
   "source": [
    "def draw_three_dataset_scatters(exp_results: tuple, dataset_names, group_names, legend_labels, save_dir, exp_name):\n",
    "    fig, axs = plt.subplots(figsize=(9, 6), nrows=2, ncols=3)\n",
    "    fig.subplots_adjust(wspace=0.4, hspace=0.6)\n",
    "    sizes = [6, 8, 10, 13, 15]\n",
    "    for rid, ax_array in enumerate(axs):\n",
    "        data = exp_results[rid]\n",
    "        group = group_names[rid]\n",
    "        x_cord = list(range(1, 6))\n",
    "        for cid, ax in enumerate(ax_array):\n",
    "            ax.plot(x_cord, data[cid][:5], \"o--\", color=\"grey\", alpha=0.3, label=\"baseline\", **line_configs)\n",
    "            ax.step(x_cord, data[cid][5:10], label=legend_labels[0], **line_configs)\n",
    "            ax.step(x_cord, data[cid][10:15], label=legend_labels[1], **line_configs)\n",
    "            ax.set_title(dataset_names[cid])\n",
    "            if cid == 1:\n",
    "                title = \"(a) \" + group if rid == 0 else \"(b) \" + group\n",
    "                ax.set_xlabel(title, labelpad=10, fontsize=20)\n",
    "            ax.set_xticks([1, 2, 3, 4, 5])\n",
    "            ax.set_xticklabels([\"xlabel1\", \"xlabel2\", \"xlabel3\", \"xlabel4\", \"xlabel5\"], rotation=20)\n",
    "            ax.set_yticks([1, 2, 3, 4, 5])\n",
    "            if cid == 0:\n",
    "                ax.set_ylabel(\"ylabel\")\n",
    "            ax.spines[[\"top\", \"bottom\", \"left\", \"right\"]].set_linewidth(1.5)\n",
    "            labels = [\"baseline\", legend_labels[0], legend_labels[1]]\n",
    "            ax.legend(labels, loc=\"lower right\", fontsize=10, bbox_to_anchor=(1.3, -0.05))\n",
    "    \n",
    "    plt.tight_layout()\n",
    "    save_path = os.path.join(save_dir, exp_name + \".png\")\n",
    "    fig.savefig(save_path, dpi=300)\n",
    "    plt.show()"
   ]
  },
  {
   "cell_type": "markdown",
   "metadata": {},
   "source": [
    "prepare data and visualize it"
   ]
  },
  {
   "cell_type": "code",
   "execution_count": null,
   "metadata": {},
   "outputs": [],
   "source": [
    "save_dir = \"../figure\"\n",
    "dataset_names = [\"dataset 1\", \"dataset 2\", \"dataset 3\"]\n",
    "method_names = [\"method A\", \"method B\"]\n",
    "group_names = [\"group 1\", \"group 2\"]\n",
    "group1 = [[1, 2, 4, 5, 3, 1, 2, 5, 4, 3, 1, 2, 3, 4, 5], \n",
    "          [1, 2, 3, 4, 5, 1, 2, 5, 4, 3, 1, 2, 3, 4, 5], \n",
    "          [1, 2, 3, 4, 5, 1, 2, 5, 4, 3, 1, 2, 3, 4, 5]]\n",
    "group2 = [[1, 2, 3, 4, 5, 1, 2, 5, 4, 3, 1, 2, 3, 4, 5],\n",
    "          [1, 2, 4, 3, 5, 1, 2, 5, 4, 3, 1, 2, 3, 4, 5],\n",
    "          [1, 2, 3, 5, 4, 1, 2, 5, 4, 3, 1, 2, 3, 4, 5]]\n",
    "\n",
    "draw_three_dataset_scatters(\n",
    "    (group1, group2),\n",
    "    dataset_names, group_names, method_names,\n",
    "    save_dir, \"step_plot\"\n",
    ")"
   ]
  }
 ],
 "metadata": {
  "kernelspec": {
   "display_name": "pytorch",
   "language": "python",
   "name": "python3"
  },
  "language_info": {
   "codemirror_mode": {
    "name": "ipython",
    "version": 3
   },
   "file_extension": ".py",
   "mimetype": "text/x-python",
   "name": "python",
   "nbconvert_exporter": "python",
   "pygments_lexer": "ipython3",
   "version": "3.8.13"
  }
 },
 "nbformat": 4,
 "nbformat_minor": 2
}
